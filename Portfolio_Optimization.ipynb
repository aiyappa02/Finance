{
  "nbformat": 4,
  "nbformat_minor": 0,
  "metadata": {
    "colab": {
      "name": "Portfolio Optimization.ipynb",
      "provenance": [],
      "authorship_tag": "ABX9TyMW2UyfIfoF8j8Es92lSUfI",
      "include_colab_link": true
    },
    "kernelspec": {
      "name": "python3",
      "display_name": "Python 3"
    }
  },
  "cells": [
    {
      "cell_type": "markdown",
      "metadata": {
        "id": "view-in-github",
        "colab_type": "text"
      },
      "source": [
        "<a href=\"https://colab.research.google.com/github/aiyappa02/Finance/blob/master/Portfolio_Optimization.ipynb\" target=\"_parent\"><img src=\"https://colab.research.google.com/assets/colab-badge.svg\" alt=\"Open In Colab\"/></a>"
      ]
    },
    {
      "cell_type": "code",
      "metadata": {
        "id": "aawjftcNtuze",
        "colab_type": "code",
        "colab": {}
      },
      "source": [
        "from pandas_datareader import data as web\n",
        "import pandas as pd\n",
        "import numpy as np\n",
        "from datetime import datetime\n",
        "import matplotlib.pyplot as plt\n",
        "plt.style.use('fivethirtyeight')"
      ],
      "execution_count": 2,
      "outputs": []
    },
    {
      "cell_type": "code",
      "metadata": {
        "id": "87HiJgO3vm_D",
        "colab_type": "code",
        "colab": {}
      },
      "source": [
        "#Get Tickers in portfolio\n",
        "assets =['AMZN','FB','NFLX','TSLA','GOOG']"
      ],
      "execution_count": 4,
      "outputs": []
    },
    {
      "cell_type": "code",
      "metadata": {
        "id": "0u7NE4TCwFhd",
        "colab_type": "code",
        "colab": {}
      },
      "source": [
        "#Assign weight to the stok portfolio\n",
        "weights = np.array([0.2, 0.2, 0.2, 0.2, 0.2])"
      ],
      "execution_count": 5,
      "outputs": []
    },
    {
      "cell_type": "code",
      "metadata": {
        "id": "p3NI3jaFxGM6",
        "colab_type": "code",
        "colab": {}
      },
      "source": [
        "#Get the portfolio starting date\n",
        "stockStartDate = '2013-01-01'\n"
      ],
      "execution_count": 6,
      "outputs": []
    },
    {
      "cell_type": "code",
      "metadata": {
        "id": "2VvzPTK7xUNG",
        "colab_type": "code",
        "colab": {
          "base_uri": "https://localhost:8080/",
          "height": 35
        },
        "outputId": "fd8a5742-a9a0-4df0-80e4-a7bf80d0b5bf"
      },
      "source": [
        "# Get the stock ending date\n",
        "today = datetime.today().strftime('%Y-%m-%d')\n",
        "today"
      ],
      "execution_count": 7,
      "outputs": [
        {
          "output_type": "execute_result",
          "data": {
            "application/vnd.google.colaboratory.intrinsic": {
              "type": "string"
            },
            "text/plain": [
              "'2020-07-10'"
            ]
          },
          "metadata": {
            "tags": []
          },
          "execution_count": 7
        }
      ]
    },
    {
      "cell_type": "code",
      "metadata": {
        "id": "zj2ra3nQyAHN",
        "colab_type": "code",
        "colab": {}
      },
      "source": [
        "#create a dataframe to stroe the adujusted close price of the stocks\n",
        "df = pd.DataFrame()\n",
        "\n",
        "#store the adj close prive of the stock into the df\n",
        "for stock in assets:\n",
        "   df[stock]= web.DataReader(stock,data_source='yahoo',start=stockStartDate,end=today)['Adj Close']\n",
        "\n"
      ],
      "execution_count": 9,
      "outputs": []
    },
    {
      "cell_type": "code",
      "metadata": {
        "id": "uvHovxC-6kqd",
        "colab_type": "code",
        "colab": {
          "base_uri": "https://localhost:8080/",
          "height": 225
        },
        "outputId": "d587096a-590e-481d-c0ad-06ca9f66007e"
      },
      "source": [
        "df.head()\n"
      ],
      "execution_count": 12,
      "outputs": [
        {
          "output_type": "execute_result",
          "data": {
            "text/html": [
              "<div>\n",
              "<style scoped>\n",
              "    .dataframe tbody tr th:only-of-type {\n",
              "        vertical-align: middle;\n",
              "    }\n",
              "\n",
              "    .dataframe tbody tr th {\n",
              "        vertical-align: top;\n",
              "    }\n",
              "\n",
              "    .dataframe thead th {\n",
              "        text-align: right;\n",
              "    }\n",
              "</style>\n",
              "<table border=\"1\" class=\"dataframe\">\n",
              "  <thead>\n",
              "    <tr style=\"text-align: right;\">\n",
              "      <th></th>\n",
              "      <th>AMZN</th>\n",
              "      <th>FB</th>\n",
              "      <th>NFLX</th>\n",
              "      <th>TSLA</th>\n",
              "      <th>GOOG</th>\n",
              "    </tr>\n",
              "    <tr>\n",
              "      <th>Date</th>\n",
              "      <th></th>\n",
              "      <th></th>\n",
              "      <th></th>\n",
              "      <th></th>\n",
              "      <th></th>\n",
              "    </tr>\n",
              "  </thead>\n",
              "  <tbody>\n",
              "    <tr>\n",
              "      <th>2013-01-02</th>\n",
              "      <td>257.309998</td>\n",
              "      <td>28.000000</td>\n",
              "      <td>13.144286</td>\n",
              "      <td>35.360001</td>\n",
              "      <td>360.274597</td>\n",
              "    </tr>\n",
              "    <tr>\n",
              "      <th>2013-01-03</th>\n",
              "      <td>258.480011</td>\n",
              "      <td>27.770000</td>\n",
              "      <td>13.798572</td>\n",
              "      <td>34.770000</td>\n",
              "      <td>360.483826</td>\n",
              "    </tr>\n",
              "    <tr>\n",
              "      <th>2013-01-04</th>\n",
              "      <td>259.149994</td>\n",
              "      <td>28.760000</td>\n",
              "      <td>13.711429</td>\n",
              "      <td>34.400002</td>\n",
              "      <td>367.607117</td>\n",
              "    </tr>\n",
              "    <tr>\n",
              "      <th>2013-01-07</th>\n",
              "      <td>268.459991</td>\n",
              "      <td>29.420000</td>\n",
              "      <td>14.171429</td>\n",
              "      <td>34.340000</td>\n",
              "      <td>366.003143</td>\n",
              "    </tr>\n",
              "    <tr>\n",
              "      <th>2013-01-08</th>\n",
              "      <td>266.380005</td>\n",
              "      <td>29.059999</td>\n",
              "      <td>13.880000</td>\n",
              "      <td>33.680000</td>\n",
              "      <td>365.280823</td>\n",
              "    </tr>\n",
              "  </tbody>\n",
              "</table>\n",
              "</div>"
            ],
            "text/plain": [
              "                  AMZN         FB       NFLX       TSLA        GOOG\n",
              "Date                                                               \n",
              "2013-01-02  257.309998  28.000000  13.144286  35.360001  360.274597\n",
              "2013-01-03  258.480011  27.770000  13.798572  34.770000  360.483826\n",
              "2013-01-04  259.149994  28.760000  13.711429  34.400002  367.607117\n",
              "2013-01-07  268.459991  29.420000  14.171429  34.340000  366.003143\n",
              "2013-01-08  266.380005  29.059999  13.880000  33.680000  365.280823"
            ]
          },
          "metadata": {
            "tags": []
          },
          "execution_count": 12
        }
      ]
    },
    {
      "cell_type": "code",
      "metadata": {
        "id": "B5rT69726-cl",
        "colab_type": "code",
        "colab": {
          "base_uri": "https://localhost:8080/",
          "height": 325
        },
        "outputId": "d99b790e-4668-4ff4-cb8a-1568f979393f"
      },
      "source": [
        "#visually shw the stock\n",
        "title =\"Portfolio Adj. Close Price History\"\n",
        "\n",
        "#get the stocks\n",
        "my_stocks =df\n",
        " \n",
        "#create and plot the graph\n",
        "for c in my_stocks.columns.values:\n",
        "  plt.plot(my_stocks[c], label =c)\n",
        "\n",
        "plt.title(title)\n",
        "plt.xlabel('Date', fontsize =18)\n",
        "plt.ylabel('Adj. Price USD', fontsize =18)\n",
        "plt.legend(my_stocks.columns.values, loc = 'upper left')\n",
        "plt.show()\n"
      ],
      "execution_count": 14,
      "outputs": [
        {
          "output_type": "display_data",
          "data": {
            "image/png": "[encoded data removed]",
            "text/plain": [
              "<Figure size 432x288 with 1 Axes>"
            ]
          },
          "metadata": {
            "tags": []
          }
        }
      ]
    },
    {
      "cell_type": "code",
      "metadata": {
        "id": "aBzWNiBn_k9x",
        "colab_type": "code",
        "colab": {
          "base_uri": "https://localhost:8080/",
          "height": 225
        },
        "outputId": "42a776b9-3b07-4bbb-98d5-e4d4c5cd7b7e"
      },
      "source": [
        "#show daily simple returns\n",
        "returns = df.pct_change()\n",
        "returns.head()\n"
      ],
      "execution_count": 17,
      "outputs": [
        {
          "output_type": "execute_result",
          "data": {
            "text/html": [
              "<div>\n",
              "<style scoped>\n",
              "    .dataframe tbody tr th:only-of-type {\n",
              "        vertical-align: middle;\n",
              "    }\n",
              "\n",
              "    .dataframe tbody tr th {\n",
              "        vertical-align: top;\n",
              "    }\n",
              "\n",
              "    .dataframe thead th {\n",
              "        text-align: right;\n",
              "    }\n",
              "</style>\n",
              "<table border=\"1\" class=\"dataframe\">\n",
              "  <thead>\n",
              "    <tr style=\"text-align: right;\">\n",
              "      <th></th>\n",
              "      <th>AMZN</th>\n",
              "      <th>FB</th>\n",
              "      <th>NFLX</th>\n",
              "      <th>TSLA</th>\n",
              "      <th>GOOG</th>\n",
              "    </tr>\n",
              "    <tr>\n",
              "      <th>Date</th>\n",
              "      <th></th>\n",
              "      <th></th>\n",
              "      <th></th>\n",
              "      <th></th>\n",
              "      <th></th>\n",
              "    </tr>\n",
              "  </thead>\n",
              "  <tbody>\n",
              "    <tr>\n",
              "      <th>2013-01-02</th>\n",
              "      <td>NaN</td>\n",
              "      <td>NaN</td>\n",
              "      <td>NaN</td>\n",
              "      <td>NaN</td>\n",
              "      <td>NaN</td>\n",
              "    </tr>\n",
              "    <tr>\n",
              "      <th>2013-01-03</th>\n",
              "      <td>0.004547</td>\n",
              "      <td>-0.008214</td>\n",
              "      <td>0.049777</td>\n",
              "      <td>-0.016686</td>\n",
              "      <td>0.000581</td>\n",
              "    </tr>\n",
              "    <tr>\n",
              "      <th>2013-01-04</th>\n",
              "      <td>0.002592</td>\n",
              "      <td>0.035650</td>\n",
              "      <td>-0.006315</td>\n",
              "      <td>-0.010641</td>\n",
              "      <td>0.019760</td>\n",
              "    </tr>\n",
              "    <tr>\n",
              "      <th>2013-01-07</th>\n",
              "      <td>0.035925</td>\n",
              "      <td>0.022949</td>\n",
              "      <td>0.033549</td>\n",
              "      <td>-0.001744</td>\n",
              "      <td>-0.004363</td>\n",
              "    </tr>\n",
              "    <tr>\n",
              "      <th>2013-01-08</th>\n",
              "      <td>-0.007748</td>\n",
              "      <td>-0.012237</td>\n",
              "      <td>-0.020565</td>\n",
              "      <td>-0.019220</td>\n",
              "      <td>-0.001974</td>\n",
              "    </tr>\n",
              "  </tbody>\n",
              "</table>\n",
              "</div>"
            ],
            "text/plain": [
              "                AMZN        FB      NFLX      TSLA      GOOG\n",
              "Date                                                        \n",
              "2013-01-02       NaN       NaN       NaN       NaN       NaN\n",
              "2013-01-03  0.004547 -0.008214  0.049777 -0.016686  0.000581\n",
              "2013-01-04  0.002592  0.035650 -0.006315 -0.010641  0.019760\n",
              "2013-01-07  0.035925  0.022949  0.033549 -0.001744 -0.004363\n",
              "2013-01-08 -0.007748 -0.012237 -0.020565 -0.019220 -0.001974"
            ]
          },
          "metadata": {
            "tags": []
          },
          "execution_count": 17
        }
      ]
    },
    {
      "cell_type": "code",
      "metadata": {
        "id": "JsSpqKwaADm8",
        "colab_type": "code",
        "colab": {
          "base_uri": "https://localhost:8080/",
          "height": 195
        },
        "outputId": "8efe3973-e538-4f11-aa8b-9490b48d000f"
      },
      "source": [
        "#create and show the annualised covariance matrix\n",
        "# 252 = no of trading days in ayear\n",
        "cov_matrix_annual = returns.cov() * 252\n",
        "cov_matrix_annual"
      ],
      "execution_count": 18,
      "outputs": [
        {
          "output_type": "execute_result",
          "data": {
            "text/html": [
              "<div>\n",
              "<style scoped>\n",
              "    .dataframe tbody tr th:only-of-type {\n",
              "        vertical-align: middle;\n",
              "    }\n",
              "\n",
              "    .dataframe tbody tr th {\n",
              "        vertical-align: top;\n",
              "    }\n",
              "\n",
              "    .dataframe thead th {\n",
              "        text-align: right;\n",
              "    }\n",
              "</style>\n",
              "<table border=\"1\" class=\"dataframe\">\n",
              "  <thead>\n",
              "    <tr style=\"text-align: right;\">\n",
              "      <th></th>\n",
              "      <th>AMZN</th>\n",
              "      <th>FB</th>\n",
              "      <th>NFLX</th>\n",
              "      <th>TSLA</th>\n",
              "      <th>GOOG</th>\n",
              "    </tr>\n",
              "  </thead>\n",
              "  <tbody>\n",
              "    <tr>\n",
              "      <th>AMZN</th>\n",
              "      <td>0.092014</td>\n",
              "      <td>0.052387</td>\n",
              "      <td>0.061485</td>\n",
              "      <td>0.052658</td>\n",
              "      <td>0.046659</td>\n",
              "    </tr>\n",
              "    <tr>\n",
              "      <th>FB</th>\n",
              "      <td>0.052387</td>\n",
              "      <td>0.116836</td>\n",
              "      <td>0.054747</td>\n",
              "      <td>0.056047</td>\n",
              "      <td>0.049172</td>\n",
              "    </tr>\n",
              "    <tr>\n",
              "      <th>NFLX</th>\n",
              "      <td>0.061485</td>\n",
              "      <td>0.054747</td>\n",
              "      <td>0.212057</td>\n",
              "      <td>0.070046</td>\n",
              "      <td>0.048898</td>\n",
              "    </tr>\n",
              "    <tr>\n",
              "      <th>TSLA</th>\n",
              "      <td>0.052658</td>\n",
              "      <td>0.056047</td>\n",
              "      <td>0.070046</td>\n",
              "      <td>0.294782</td>\n",
              "      <td>0.045181</td>\n",
              "    </tr>\n",
              "    <tr>\n",
              "      <th>GOOG</th>\n",
              "      <td>0.046659</td>\n",
              "      <td>0.049172</td>\n",
              "      <td>0.048898</td>\n",
              "      <td>0.045181</td>\n",
              "      <td>0.065010</td>\n",
              "    </tr>\n",
              "  </tbody>\n",
              "</table>\n",
              "</div>"
            ],
            "text/plain": [
              "          AMZN        FB      NFLX      TSLA      GOOG\n",
              "AMZN  0.092014  0.052387  0.061485  0.052658  0.046659\n",
              "FB    0.052387  0.116836  0.054747  0.056047  0.049172\n",
              "NFLX  0.061485  0.054747  0.212057  0.070046  0.048898\n",
              "TSLA  0.052658  0.056047  0.070046  0.294782  0.045181\n",
              "GOOG  0.046659  0.049172  0.048898  0.045181  0.065010"
            ]
          },
          "metadata": {
            "tags": []
          },
          "execution_count": 18
        }
      ]
    },
    {
      "cell_type": "code",
      "metadata": {
        "id": "cNTixseiBmxz",
        "colab_type": "code",
        "colab": {
          "base_uri": "https://localhost:8080/",
          "height": 34
        },
        "outputId": "c4d32c21-bf3b-4dbc-d9b5-03ab1382efcd"
      },
      "source": [
        "#calculate the portfolio variance\n",
        "port_variance = np.dot( weights.T, np.dot(cov_matrix_annual, weights))\n",
        "port_variance"
      ],
      "execution_count": 19,
      "outputs": [
        {
          "output_type": "execute_result",
          "data": {
            "text/plain": [
              "0.07421035283332017"
            ]
          },
          "metadata": {
            "tags": []
          },
          "execution_count": 19
        }
      ]
    },
    {
      "cell_type": "code",
      "metadata": {
        "id": "AUwHMg-VCKNo",
        "colab_type": "code",
        "colab": {
          "base_uri": "https://localhost:8080/",
          "height": 34
        },
        "outputId": "f6a459e4-3f57-4af8-ad18-a01b3a72bf89"
      },
      "source": [
        "#calc the portfolio std dev\n",
        "port_stddev= np.sqrt(port_variance)\n",
        "port_stddev\n"
      ],
      "execution_count": 20,
      "outputs": [
        {
          "output_type": "execute_result",
          "data": {
            "text/plain": [
              "0.27241577199809885"
            ]
          },
          "metadata": {
            "tags": []
          },
          "execution_count": 20
        }
      ]
    },
    {
      "cell_type": "code",
      "metadata": {
        "id": "zNKDnyCJeTF6",
        "colab_type": "code",
        "colab": {
          "base_uri": "https://localhost:8080/",
          "height": 34
        },
        "outputId": "8d40cc0f-05f7-4da2-f012-ba07bc57d560"
      },
      "source": [
        "#calc annuaal portfolio return\n",
        "portfolioSimpleAnnualReturn = np.sum(returns.mean() * weights) * 252\n",
        "portfolioSimpleAnnualReturn"
      ],
      "execution_count": 22,
      "outputs": [
        {
          "output_type": "execute_result",
          "data": {
            "text/plain": [
              "0.43514846108302074"
            ]
          },
          "metadata": {
            "tags": []
          },
          "execution_count": 22
        }
      ]
    },
    {
      "cell_type": "code",
      "metadata": {
        "id": "em5W9I9yetft",
        "colab_type": "code",
        "colab": {
          "base_uri": "https://localhost:8080/",
          "height": 67
        },
        "outputId": "cec17505-30c5-4103-d097-6fe2d6a5fbb7"
      },
      "source": [
        "#Show the expected annual Retuen, \n",
        "\n",
        "percent_var = str( round(port_variance, 2) * 100)+\"%\"\n",
        "percent_vola=str(round(port_stddev, 2)* 100) + '%'\n",
        "percent_ret= str(round(portfolioSimpleAnnualReturn,2) *100) + \"%\"\n",
        "\n",
        "print ('Expected annual return '+ percent_ret)\n",
        "print ('Annual volatility/risk '+ percent_vola)\n",
        "print ('Annual variance '+ percent_var)"
      ],
      "execution_count": 23,
      "outputs": [
        {
          "output_type": "stream",
          "text": [
            "Expected annual return 44.0%\n",
            "Annual volatility/risk 27.0%\n",
            "Annual variance 7.000000000000001%\n"
          ],
          "name": "stdout"
        }
      ]
    },
    {
      "cell_type": "code",
      "metadata": {
        "id": "9Tq2GeTfggmz",
        "colab_type": "code",
        "colab": {
          "base_uri": "https://localhost:8080/",
          "height": 339
        },
        "outputId": "43647777-5c54-4a4a-a04b-c754c03da24d"
      },
      "source": [
        "pip install PyPortfolioOpt\n"
      ],
      "execution_count": 26,
      "outputs": [
        {
          "output_type": "stream",
          "text": [
            "Collecting PyPortfolioOpt\n",
            "\u001b[?25l  Downloading https://files.pythonhosted.org/packages/8f/f5/4571e069d4870ede26995e191f2ef341329f881d7086cebea504141c79a8/PyPortfolioOpt-1.2.3-py3-none-any.whl (48kB)\n",
            "\r\u001b[K     |██████▉                         | 10kB 17.8MB/s eta 0:00:01\r\u001b[K     |█████████████▋                  | 20kB 6.4MB/s eta 0:00:01\r\u001b[K     |████████████████████▍           | 30kB 6.7MB/s eta 0:00:01\r\u001b[K     |███████████████████████████▏    | 40kB 5.3MB/s eta 0:00:01\r\u001b[K     |████████████████████████████████| 51kB 3.1MB/s \n",
            "\u001b[?25hRequirement already satisfied: numpy<2.0,>=1.12 in /usr/local/lib/python3.6/dist-packages (from PyPortfolioOpt) (1.18.5)\n",
            "Requirement already satisfied: pandas>=0.19 in /usr/local/lib/python3.6/dist-packages (from PyPortfolioOpt) (1.0.5)\n",
            "Requirement already satisfied: scipy<2.0,>=1.3 in /usr/local/lib/python3.6/dist-packages (from PyPortfolioOpt) (1.4.1)\n",
            "Requirement already satisfied: cvxpy<1.1,>=1.0 in /usr/local/lib/python3.6/dist-packages (from PyPortfolioOpt) (1.0.31)\n",
            "Requirement already satisfied: pytz>=2017.2 in /usr/local/lib/python3.6/dist-packages (from pandas>=0.19->PyPortfolioOpt) (2018.9)\n",
            "Requirement already satisfied: python-dateutil>=2.6.1 in /usr/local/lib/python3.6/dist-packages (from pandas>=0.19->PyPortfolioOpt) (2.8.1)\n",
            "Requirement already satisfied: ecos>=2 in /usr/local/lib/python3.6/dist-packages (from cvxpy<1.1,>=1.0->PyPortfolioOpt) (2.0.7.post1)\n",
            "Requirement already satisfied: scs>=1.1.3 in /usr/local/lib/python3.6/dist-packages (from cvxpy<1.1,>=1.0->PyPortfolioOpt) (2.1.2)\n",
            "Requirement already satisfied: multiprocess in /usr/local/lib/python3.6/dist-packages (from cvxpy<1.1,>=1.0->PyPortfolioOpt) (0.70.10)\n",
            "Requirement already satisfied: osqp>=0.4.1 in /usr/local/lib/python3.6/dist-packages (from cvxpy<1.1,>=1.0->PyPortfolioOpt) (0.6.1)\n",
            "Requirement already satisfied: six>=1.5 in /usr/local/lib/python3.6/dist-packages (from python-dateutil>=2.6.1->pandas>=0.19->PyPortfolioOpt) (1.12.0)\n",
            "Requirement already satisfied: dill>=0.3.2 in /usr/local/lib/python3.6/dist-packages (from multiprocess->cvxpy<1.1,>=1.0->PyPortfolioOpt) (0.3.2)\n",
            "Requirement already satisfied: future in /usr/local/lib/python3.6/dist-packages (from osqp>=0.4.1->cvxpy<1.1,>=1.0->PyPortfolioOpt) (0.16.0)\n",
            "Installing collected packages: PyPortfolioOpt\n",
            "Successfully installed PyPortfolioOpt-1.2.3\n"
          ],
          "name": "stdout"
        }
      ]
    },
    {
      "cell_type": "code",
      "metadata": {
        "id": "hlDC90hRhPy6",
        "colab_type": "code",
        "colab": {}
      },
      "source": [
        "from pypfopt.efficient_frontier import EfficientFrontier\n",
        "from pypfopt import risk_models\n",
        "from pypfopt import expected_returns\n"
      ],
      "execution_count": 29,
      "outputs": []
    },
    {
      "cell_type": "code",
      "metadata": {
        "id": "GNMNY0jciQYi",
        "colab_type": "code",
        "colab": {
          "base_uri": "https://localhost:8080/",
          "height": 121
        },
        "outputId": "ebb2cffa-264b-42ae-953c-360f698d883a"
      },
      "source": [
        "# Portfolio Optimization\n",
        "#calculate the expected returns and the annualized sample covariance matrix of asset retuens\n",
        "mu = expected_returns.mean_historical_return(df)\n",
        "S = risk_models.sample_cov(df)\n",
        "\n",
        "#optimize for max sharpe ratio.(The ratio describes how much excess return you receive for the extra volatility you endure for holding a riskier asset.)\n",
        "ef = EfficientFrontier(mu, S)\n",
        "weights1 = ef.max_sharpe()\n",
        "cleaned_weights=ef.clean_weights()\n",
        "print(cleaned_weights)\n",
        "ef.portfolio_performance(verbose=True)"
      ],
      "execution_count": 32,
      "outputs": [
        {
          "output_type": "stream",
          "text": [
            "OrderedDict([('AMZN', 0.33499), ('FB', 0.12304), ('NFLX', 0.30051), ('TSLA', 0.24147), ('GOOG', 0.0)])\n",
            "Expected annual return: 50.1%\n",
            "Annual volatility: 30.2%\n",
            "Sharpe Ratio: 1.59\n"
          ],
          "name": "stdout"
        },
        {
          "output_type": "execute_result",
          "data": {
            "text/plain": [
              "(0.5008578170259346, 0.30198059122411547, 1.5923467633357438)"
            ]
          },
          "metadata": {
            "tags": []
          },
          "execution_count": 32
        }
      ]
    },
    {
      "cell_type": "code",
      "metadata": {
        "id": "ryZYVYmRlXyn",
        "colab_type": "code",
        "colab": {
          "base_uri": "https://localhost:8080/",
          "height": 34
        },
        "outputId": "ad353122-2c46-489b-a5f9-30c95015f6e7"
      },
      "source": [
        "0.33499+0.12304+0.30051+0.24147"
      ],
      "execution_count": 33,
      "outputs": [
        {
          "output_type": "execute_result",
          "data": {
            "text/plain": [
              "1.00001"
            ]
          },
          "metadata": {
            "tags": []
          },
          "execution_count": 33
        }
      ]
    },
    {
      "cell_type": "code",
      "metadata": {
        "id": "oTSxQfBqlzLw",
        "colab_type": "code",
        "colab": {
          "base_uri": "https://localhost:8080/",
          "height": 50
        },
        "outputId": "7daef980-bedd-42bd-c440-34927e37552c"
      },
      "source": [
        "#get the discrete allocation of each share per stock\n",
        "from pypfopt.discrete_allocation import DiscreteAllocation, get_latest_prices\n",
        "\n",
        "latest_prices= get_latest_prices(df)\n",
        "weights = cleaned_weights\n",
        "da = DiscreteAllocation(weights, latest_prices, total_portfolio_value = 15000)\n",
        "\n",
        "allocation ,leftover = da.lp_portfolio()\n",
        "print('Discrete aloocation :', allocation)\n",
        "print('Funds remaining : ${:.2f}'.format(leftover))\n",
        "\n"
      ],
      "execution_count": 35,
      "outputs": [
        {
          "output_type": "stream",
          "text": [
            "Discrete aloocation : {'AMZN': 2.0, 'FB': 7.0, 'NFLX': 8.0, 'TSLA': 2.0}\n",
            "Funds remaining : $72.60\n"
          ],
          "name": "stdout"
        }
      ]
    }
  ]
}