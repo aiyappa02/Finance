{
  "nbformat": 4,
  "nbformat_minor": 0,
  "metadata": {
    "colab": {
      "name": "Using LSTM for Stock Price Prediction.ipynb",
      "provenance": [],
      "authorship_tag": "ABX9TyM/rVcdYKU4vazsTiUIB4Q+",
      "include_colab_link": true
    },
    "kernelspec": {
      "name": "python3",
      "display_name": "Python 3"
    }
  },
  "cells": [
    {
      "cell_type": "markdown",
      "metadata": {
        "id": "view-in-github",
        "colab_type": "text"
      },
      "source": [
        "<a href=\"https://colab.research.google.com/github/aiyappa02/Finance/blob/master/Using_LSTM_for_Stock_Price_Prediction.ipynb\" target=\"_parent\"><img src=\"https://colab.research.google.com/assets/colab-badge.svg\" alt=\"Open In Colab\"/></a>"
      ]
    },
    {
      "cell_type": "code",
      "metadata": {
        "id": "zhnt4GeJ9o6W",
        "colab_type": "code",
        "colab": {}
      },
      "source": [
        "#descrption uses RNN called LSTM, to predict the closing stockprice of a corporation using past 60 day stock price"
      ],
      "execution_count": 0,
      "outputs": []
    },
    {
      "cell_type": "code",
      "metadata": {
        "id": "s3GlrB3M-VPY",
        "colab_type": "code",
        "colab": {}
      },
      "source": [
        "import pandas as pd\n",
        "import numpy as np\n",
        "import pandas_datareader as web\n",
        "import math\n",
        "from sklearn.preprocessing import MinMaxScaler\n",
        "from keras.models import Sequential\n",
        "from keras.layers import Dense,LSTM\n",
        "import matplotlib.pyplot as plt\n",
        "plt.style.use('fivethirtyeight')"
      ],
      "execution_count": 0,
      "outputs": []
    },
    {
      "cell_type": "code",
      "metadata": {
        "id": "yZCY-9krBtOC",
        "colab_type": "code",
        "outputId": "1bc8f832-447f-4991-903c-4fe6ab45f263",
        "colab": {
          "base_uri": "https://localhost:8080/",
          "height": 431
        }
      },
      "source": [
        "df=web.DataReader('TSLA',data_source=\"yahoo\",start='2012-01-01',end='2020-04-30')\n",
        "df"
      ],
      "execution_count": 13,
      "outputs": [
        {
          "output_type": "execute_result",
          "data": {
            "text/html": [
              "<div>\n",
              "<style scoped>\n",
              "    .dataframe tbody tr th:only-of-type {\n",
              "        vertical-align: middle;\n",
              "    }\n",
              "\n",
              "    .dataframe tbody tr th {\n",
              "        vertical-align: top;\n",
              "    }\n",
              "\n",
              "    .dataframe thead th {\n",
              "        text-align: right;\n",
              "    }\n",
              "</style>\n",
              "<table border=\"1\" class=\"dataframe\">\n",
              "  <thead>\n",
              "    <tr style=\"text-align: right;\">\n",
              "      <th></th>\n",
              "      <th>High</th>\n",
              "      <th>Low</th>\n",
              "      <th>Open</th>\n",
              "      <th>Close</th>\n",
              "      <th>Volume</th>\n",
              "      <th>Adj Close</th>\n",
              "    </tr>\n",
              "    <tr>\n",
              "      <th>Date</th>\n",
              "      <th></th>\n",
              "      <th></th>\n",
              "      <th></th>\n",
              "      <th></th>\n",
              "      <th></th>\n",
              "      <th></th>\n",
              "    </tr>\n",
              "  </thead>\n",
              "  <tbody>\n",
              "    <tr>\n",
              "      <th>2012-01-03</th>\n",
              "      <td>29.500000</td>\n",
              "      <td>27.650000</td>\n",
              "      <td>28.940001</td>\n",
              "      <td>28.080000</td>\n",
              "      <td>928100</td>\n",
              "      <td>28.080000</td>\n",
              "    </tr>\n",
              "    <tr>\n",
              "      <th>2012-01-04</th>\n",
              "      <td>28.670000</td>\n",
              "      <td>27.500000</td>\n",
              "      <td>28.209999</td>\n",
              "      <td>27.709999</td>\n",
              "      <td>630100</td>\n",
              "      <td>27.709999</td>\n",
              "    </tr>\n",
              "    <tr>\n",
              "      <th>2012-01-05</th>\n",
              "      <td>27.930000</td>\n",
              "      <td>26.850000</td>\n",
              "      <td>27.760000</td>\n",
              "      <td>27.120001</td>\n",
              "      <td>1005500</td>\n",
              "      <td>27.120001</td>\n",
              "    </tr>\n",
              "    <tr>\n",
              "      <th>2012-01-06</th>\n",
              "      <td>27.790001</td>\n",
              "      <td>26.410000</td>\n",
              "      <td>27.200001</td>\n",
              "      <td>26.910000</td>\n",
              "      <td>986300</td>\n",
              "      <td>26.910000</td>\n",
              "    </tr>\n",
              "    <tr>\n",
              "      <th>2012-01-09</th>\n",
              "      <td>27.490000</td>\n",
              "      <td>26.120001</td>\n",
              "      <td>27.000000</td>\n",
              "      <td>27.250000</td>\n",
              "      <td>897000</td>\n",
              "      <td>27.250000</td>\n",
              "    </tr>\n",
              "    <tr>\n",
              "      <th>...</th>\n",
              "      <td>...</td>\n",
              "      <td>...</td>\n",
              "      <td>...</td>\n",
              "      <td>...</td>\n",
              "      <td>...</td>\n",
              "      <td>...</td>\n",
              "    </tr>\n",
              "    <tr>\n",
              "      <th>2020-04-24</th>\n",
              "      <td>730.729980</td>\n",
              "      <td>698.179993</td>\n",
              "      <td>710.809998</td>\n",
              "      <td>725.150024</td>\n",
              "      <td>13237600</td>\n",
              "      <td>725.150024</td>\n",
              "    </tr>\n",
              "    <tr>\n",
              "      <th>2020-04-27</th>\n",
              "      <td>799.489990</td>\n",
              "      <td>735.000000</td>\n",
              "      <td>737.609985</td>\n",
              "      <td>798.750000</td>\n",
              "      <td>20681400</td>\n",
              "      <td>798.750000</td>\n",
              "    </tr>\n",
              "    <tr>\n",
              "      <th>2020-04-28</th>\n",
              "      <td>805.000000</td>\n",
              "      <td>756.690002</td>\n",
              "      <td>795.640015</td>\n",
              "      <td>769.119995</td>\n",
              "      <td>15222000</td>\n",
              "      <td>769.119995</td>\n",
              "    </tr>\n",
              "    <tr>\n",
              "      <th>2020-04-29</th>\n",
              "      <td>803.200012</td>\n",
              "      <td>783.159973</td>\n",
              "      <td>790.169983</td>\n",
              "      <td>800.510010</td>\n",
              "      <td>16216000</td>\n",
              "      <td>800.510010</td>\n",
              "    </tr>\n",
              "    <tr>\n",
              "      <th>2020-04-30</th>\n",
              "      <td>869.820007</td>\n",
              "      <td>763.500000</td>\n",
              "      <td>855.190002</td>\n",
              "      <td>781.880005</td>\n",
              "      <td>28471900</td>\n",
              "      <td>781.880005</td>\n",
              "    </tr>\n",
              "  </tbody>\n",
              "</table>\n",
              "<p>2095 rows × 6 columns</p>\n",
              "</div>"
            ],
            "text/plain": [
              "                  High         Low  ...    Volume   Adj Close\n",
              "Date                                ...                      \n",
              "2012-01-03   29.500000   27.650000  ...    928100   28.080000\n",
              "2012-01-04   28.670000   27.500000  ...    630100   27.709999\n",
              "2012-01-05   27.930000   26.850000  ...   1005500   27.120001\n",
              "2012-01-06   27.790001   26.410000  ...    986300   26.910000\n",
              "2012-01-09   27.490000   26.120001  ...    897000   27.250000\n",
              "...                ...         ...  ...       ...         ...\n",
              "2020-04-24  730.729980  698.179993  ...  13237600  725.150024\n",
              "2020-04-27  799.489990  735.000000  ...  20681400  798.750000\n",
              "2020-04-28  805.000000  756.690002  ...  15222000  769.119995\n",
              "2020-04-29  803.200012  783.159973  ...  16216000  800.510010\n",
              "2020-04-30  869.820007  763.500000  ...  28471900  781.880005\n",
              "\n",
              "[2095 rows x 6 columns]"
            ]
          },
          "metadata": {
            "tags": []
          },
          "execution_count": 13
        }
      ]
    },
    {
      "cell_type": "code",
      "metadata": {
        "id": "trAUsaaPCijb",
        "colab_type": "code",
        "outputId": "ee4701d0-03d9-4211-ab02-b11c065ed0ad",
        "colab": {
          "base_uri": "https://localhost:8080/",
          "height": 34
        }
      },
      "source": [
        "df.shape"
      ],
      "execution_count": 14,
      "outputs": [
        {
          "output_type": "execute_result",
          "data": {
            "text/plain": [
              "(2095, 6)"
            ]
          },
          "metadata": {
            "tags": []
          },
          "execution_count": 14
        }
      ]
    },
    {
      "cell_type": "code",
      "metadata": {
        "id": "KMfmSUNfCzq9",
        "colab_type": "code",
        "outputId": "de171c06-c35a-4982-df87-f81bf4c813e2",
        "colab": {
          "base_uri": "https://localhost:8080/",
          "height": 536
        }
      },
      "source": [
        "plt.figure(figsize=(16,8))\n",
        "plt.title('Close price history')\n",
        "plt.plot(df['Close'])\n",
        "plt.xlabel=('Date')\n",
        "plt.ylabel=('Close price in $')\n",
        "plt.show()"
      ],
      "execution_count": 15,
      "outputs": [
        {
          "output_type": "display_data",
          "data": {
            "image/png": "[encoded data removed]",
            "text/plain": [
              "<Figure size 1152x576 with 1 Axes>"
            ]
          },
          "metadata": {
            "tags": []
          }
        }
      ]
    },
    {
      "cell_type": "code",
      "metadata": {
        "id": "AtoxtHFpEkcp",
        "colab_type": "code",
        "outputId": "83fe8367-8f12-4a7f-dede-097c5da31534",
        "colab": {
          "base_uri": "https://localhost:8080/",
          "height": 34
        }
      },
      "source": [
        "#dataframe with only close column\n",
        "data=df.filter(['Close'])\n",
        "#conert data =frame into numpyarray\n",
        "dataset=data.values\n",
        "#get no of rowa to train the model on\n",
        "training_data_len=math.ceil(len(dataset)* 0.8)\n",
        "print(training_data_len)"
      ],
      "execution_count": 16,
      "outputs": [
        {
          "output_type": "stream",
          "text": [
            "1676\n"
          ],
          "name": "stdout"
        }
      ]
    },
    {
      "cell_type": "code",
      "metadata": {
        "id": "gh24VZErGJRC",
        "colab_type": "code",
        "colab": {
          "base_uri": "https://localhost:8080/",
          "height": 134
        },
        "outputId": "014fec2d-ed13-4496-dda2-f4565310b62f"
      },
      "source": [
        "#Scale the data\n",
        "scaler= MinMaxScaler()\n",
        "scaled_data=scaler.fit_transform(dataset)\n",
        "print(scaled_data)"
      ],
      "execution_count": 21,
      "outputs": [
        {
          "output_type": "stream",
          "text": [
            "[[0.00591306]\n",
            " [0.00549948]\n",
            " [0.00483999]\n",
            " ...\n",
            " [0.83423316]\n",
            " [0.86932031]\n",
            " [0.84849605]]\n"
          ],
          "name": "stdout"
        }
      ]
    },
    {
      "cell_type": "code",
      "metadata": {
        "id": "knGc_T3yCtUM",
        "colab_type": "code",
        "colab": {
          "base_uri": "https://localhost:8080/",
          "height": 672
        },
        "outputId": "c28aad40-1bed-466d-e500-4a5cbd3e351b"
      },
      "source": [
        "#creating daaset\n",
        "#creating scaled dataset\n",
        "train_data=scaled_data[0:training_data_len, : ]\n",
        "x_train=[]\n",
        "y_train=[]\n",
        "\n",
        "for i in range(60,len(train_data)):\n",
        "  x_train.append(train_data[i-60:i,0])\n",
        "  y_train.append(train_data[i,0])\n",
        "  if i<=61:\n",
        "    print(x_train)\n",
        "    print(y_train)\n",
        "    print()"
      ],
      "execution_count": 24,
      "outputs": [
        {
          "output_type": "stream",
          "text": [
            "[array([0.00591306, 0.00549948, 0.00483999, 0.00460525, 0.0049853 ,\n",
            "       0.00539888, 0.00608072, 0.00610308, 0.        , 0.00425874,\n",
            "       0.00449348, 0.00443759, 0.00425874, 0.00444877, 0.00517532,\n",
            "       0.0057901 , 0.00687435, 0.00731028, 0.00757855, 0.00701966,\n",
            "       0.00758973, 0.00833864, 0.00934464, 0.0100712 , 0.00984765,\n",
            "       0.01021651, 0.01094307, 0.00928876, 0.00972469, 0.01160256,\n",
            "       0.01208321, 0.01273152, 0.01361457, 0.01308921, 0.01277623,\n",
            "       0.01312274, 0.01225087, 0.01210556, 0.01231794, 0.01187083,\n",
            "       0.01298861, 0.01257503, 0.01227323, 0.0115355 , 0.01154667,\n",
            "       0.01149078, 0.01335748, 0.01477706, 0.01486648, 0.01397226,\n",
            "       0.0136481 , 0.01400579, 0.01362574, 0.01360339, 0.01381577,\n",
            "       0.01297743, 0.01261974, 0.01633077, 0.01693437, 0.01683377])]\n",
            "[0.016252530328918307]\n",
            "\n",
            "[array([0.00591306, 0.00549948, 0.00483999, 0.00460525, 0.0049853 ,\n",
            "       0.00539888, 0.00608072, 0.00610308, 0.        , 0.00425874,\n",
            "       0.00449348, 0.00443759, 0.00425874, 0.00444877, 0.00517532,\n",
            "       0.0057901 , 0.00687435, 0.00731028, 0.00757855, 0.00701966,\n",
            "       0.00758973, 0.00833864, 0.00934464, 0.0100712 , 0.00984765,\n",
            "       0.01021651, 0.01094307, 0.00928876, 0.00972469, 0.01160256,\n",
            "       0.01208321, 0.01273152, 0.01361457, 0.01308921, 0.01277623,\n",
            "       0.01312274, 0.01225087, 0.01210556, 0.01231794, 0.01187083,\n",
            "       0.01298861, 0.01257503, 0.01227323, 0.0115355 , 0.01154667,\n",
            "       0.01149078, 0.01335748, 0.01477706, 0.01486648, 0.01397226,\n",
            "       0.0136481 , 0.01400579, 0.01362574, 0.01360339, 0.01381577,\n",
            "       0.01297743, 0.01261974, 0.01633077, 0.01693437, 0.01683377]), array([0.00549948, 0.00483999, 0.00460525, 0.0049853 , 0.00539888,\n",
            "       0.00608072, 0.00610308, 0.        , 0.00425874, 0.00449348,\n",
            "       0.00443759, 0.00425874, 0.00444877, 0.00517532, 0.0057901 ,\n",
            "       0.00687435, 0.00731028, 0.00757855, 0.00701966, 0.00758973,\n",
            "       0.00833864, 0.00934464, 0.0100712 , 0.00984765, 0.01021651,\n",
            "       0.01094307, 0.00928876, 0.00972469, 0.01160256, 0.01208321,\n",
            "       0.01273152, 0.01361457, 0.01308921, 0.01277623, 0.01312274,\n",
            "       0.01225087, 0.01210556, 0.01231794, 0.01187083, 0.01298861,\n",
            "       0.01257503, 0.01227323, 0.0115355 , 0.01154667, 0.01149078,\n",
            "       0.01335748, 0.01477706, 0.01486648, 0.01397226, 0.0136481 ,\n",
            "       0.01400579, 0.01362574, 0.01360339, 0.01381577, 0.01297743,\n",
            "       0.01261974, 0.01633077, 0.01693437, 0.01683377, 0.01625253])]\n",
            "[0.016252530328918307, 0.016151929908186567]\n",
            "\n"
          ],
          "name": "stdout"
        }
      ]
    },
    {
      "cell_type": "code",
      "metadata": {
        "id": "sFDKqkqoHrxk",
        "colab_type": "code",
        "colab": {}
      },
      "source": [
        "x_train,y_train=np.array(x_train), np.array(y_train)"
      ],
      "execution_count": 0,
      "outputs": []
    },
    {
      "cell_type": "code",
      "metadata": {
        "id": "j3Lrllh7Ih4V",
        "colab_type": "code",
        "colab": {
          "base_uri": "https://localhost:8080/",
          "height": 34
        },
        "outputId": "f27a02a8-3ac4-498a-bd78-3a4a95ff5335"
      },
      "source": [
        "#reshape to t3d for lstm\n",
        "x_train=np.reshape(x_train,(x_train.shape[0],x_train.shape[1],1))\n",
        "x_train.shape"
      ],
      "execution_count": 29,
      "outputs": [
        {
          "output_type": "execute_result",
          "data": {
            "text/plain": [
              "(1616, 60, 1)"
            ]
          },
          "metadata": {
            "tags": []
          },
          "execution_count": 29
        }
      ]
    },
    {
      "cell_type": "code",
      "metadata": {
        "id": "R63UccaPJiLV",
        "colab_type": "code",
        "colab": {}
      },
      "source": [
        "#lstm model\n",
        "model=Sequential()\n",
        "model.add(LSTM(50,return_sequences=True, input_shape=(x_train.shape[1],1)))\n",
        "model.add(LSTM(50,return_sequences=False))\n",
        "model.add(Dense(25))\n",
        "model.add(Dense(1))"
      ],
      "execution_count": 0,
      "outputs": []
    },
    {
      "cell_type": "code",
      "metadata": {
        "id": "NRiyxAfBLkx4",
        "colab_type": "code",
        "colab": {}
      },
      "source": [
        "#compile\n",
        "model.compile(optimizer='adam', loss= 'mean_squared_error')\n"
      ],
      "execution_count": 0,
      "outputs": []
    },
    {
      "cell_type": "code",
      "metadata": {
        "id": "36aR0e6_UpXy",
        "colab_type": "code",
        "colab": {
          "base_uri": "https://localhost:8080/",
          "height": 67
        },
        "outputId": "5f209b5b-88e2-438c-d901-a6a4c598f553"
      },
      "source": [
        "model.fit(x_train,y_train,batch_size=1,epochs=1)"
      ],
      "execution_count": 34,
      "outputs": [
        {
          "output_type": "stream",
          "text": [
            "Epoch 1/1\n",
            "1616/1616 [==============================] - 60s 37ms/step - loss: 2.5380e-04\n"
          ],
          "name": "stdout"
        },
        {
          "output_type": "execute_result",
          "data": {
            "text/plain": [
              "<keras.callbacks.callbacks.History at 0x7fdbd13e39b0>"
            ]
          },
          "metadata": {
            "tags": []
          },
          "execution_count": 34
        }
      ]
    },
    {
      "cell_type": "code",
      "metadata": {
        "id": "TVECyNxXVRC8",
        "colab_type": "code",
        "colab": {}
      },
      "source": [
        "#creating test dataset\n",
        "test_data=scaled_data[training_data_len-60 : , : ]\n",
        "x_test = []\n",
        "y_test = dataset[training_data_len:,:]\n",
        "for i in range (60,len(test_data)):\n",
        "  x_test.append(test_data[i-60:i,0])"
      ],
      "execution_count": 0,
      "outputs": []
    },
    {
      "cell_type": "code",
      "metadata": {
        "id": "JOuyi6M0X1ou",
        "colab_type": "code",
        "colab": {}
      },
      "source": [
        "x_test=np.array(x_test)"
      ],
      "execution_count": 0,
      "outputs": []
    },
    {
      "cell_type": "code",
      "metadata": {
        "id": "aHeHlZgGYnml",
        "colab_type": "code",
        "colab": {}
      },
      "source": [
        "#reshape \n",
        "x_test=np.reshape(x_test,(x_test.shape[0],x_test.shape[1],1))"
      ],
      "execution_count": 0,
      "outputs": []
    },
    {
      "cell_type": "code",
      "metadata": {
        "id": "m-eOGhH_Y3La",
        "colab_type": "code",
        "colab": {}
      },
      "source": [
        "#get th emodels predicted pricevalues\n",
        "predictions=model.predict(x_test)\n",
        "predictions=scaler.inverse_transform(predictions)\n"
      ],
      "execution_count": 0,
      "outputs": []
    },
    {
      "cell_type": "code",
      "metadata": {
        "id": "gqnFlBE8ZQgJ",
        "colab_type": "code",
        "colab": {
          "base_uri": "https://localhost:8080/",
          "height": 34
        },
        "outputId": "19d1c3b5-d83a-4f63-abfa-64415e4c4e8e"
      },
      "source": [
        "#get the RMSE\n",
        "rmse = np.sqrt(np.mean(predictions-y_test)**2)\n",
        "rmse"
      ],
      "execution_count": 39,
      "outputs": [
        {
          "output_type": "execute_result",
          "data": {
            "text/plain": [
              "9.18135012533329"
            ]
          },
          "metadata": {
            "tags": []
          },
          "execution_count": 39
        }
      ]
    },
    {
      "cell_type": "code",
      "metadata": {
        "id": "EWo8HKRDZ8eH",
        "colab_type": "code",
        "colab": {
          "base_uri": "https://localhost:8080/",
          "height": 458
        },
        "outputId": "e9b463c8-3fe4-478d-aa34-e531f2bf918d"
      },
      "source": [
        "#to plot\n",
        "train= data[:training_data_len]\n",
        "valid=data[training_data_len:]\n",
        "valid['Predictions']= predictions\n",
        "#to visulaize\n",
        "plt.figure(figsize=(16,8))\n",
        "plt.title('Model')\n",
        "#plt.xlabel('Date')\n",
        "#plt.y_label('close price')\n",
        "plt.plot(train['Close'])\n",
        "plt.plot(valid[['Close','Predictions']])\n",
        "plt.legend(['Train','Val','Predictions'],loc='lower right')\n",
        "plt.show()"
      ],
      "execution_count": 43,
      "outputs": [
        {
          "output_type": "stream",
          "text": [
            "/usr/local/lib/python3.6/dist-packages/ipykernel_launcher.py:3: SettingWithCopyWarning: \n",
            "A value is trying to be set on a copy of a slice from a DataFrame.\n",
            "Try using .loc[row_indexer,col_indexer] = value instead\n",
            "\n",
            "See the caveats in the documentation: https://pandas.pydata.org/pandas-docs/stable/user_guide/indexing.html#returning-a-view-versus-a-copy\n",
            "  This is separate from the ipykernel package so we can avoid doing imports until\n"
          ],
          "name": "stderr"
        },
        {
          "output_type": "display_data",
          "data": {
            "image/png": "[encoded data removed]",
            "text/plain": [
              "<Figure size 1152x576 with 1 Axes>"
            ]
          },
          "metadata": {
            "tags": []
          }
        }
      ]
    },
    {
      "cell_type": "code",
      "metadata": {
        "id": "GF1dqm9YcsL1",
        "colab_type": "code",
        "colab": {
          "base_uri": "https://localhost:8080/",
          "height": 431
        },
        "outputId": "0842fbd2-e05f-4ec0-8e12-fd7a53072f44"
      },
      "source": [
        "#comparing c=valid and predicted prices\n",
        "valid"
      ],
      "execution_count": 44,
      "outputs": [
        {
          "output_type": "execute_result",
          "data": {
            "text/html": [
              "<div>\n",
              "<style scoped>\n",
              "    .dataframe tbody tr th:only-of-type {\n",
              "        vertical-align: middle;\n",
              "    }\n",
              "\n",
              "    .dataframe tbody tr th {\n",
              "        vertical-align: top;\n",
              "    }\n",
              "\n",
              "    .dataframe thead th {\n",
              "        text-align: right;\n",
              "    }\n",
              "</style>\n",
              "<table border=\"1\" class=\"dataframe\">\n",
              "  <thead>\n",
              "    <tr style=\"text-align: right;\">\n",
              "      <th></th>\n",
              "      <th>Close</th>\n",
              "      <th>Predictions</th>\n",
              "    </tr>\n",
              "    <tr>\n",
              "      <th>Date</th>\n",
              "      <th></th>\n",
              "      <th></th>\n",
              "    </tr>\n",
              "  </thead>\n",
              "  <tbody>\n",
              "    <tr>\n",
              "      <th>2018-08-30</th>\n",
              "      <td>303.149994</td>\n",
              "      <td>315.597015</td>\n",
              "    </tr>\n",
              "    <tr>\n",
              "      <th>2018-08-31</th>\n",
              "      <td>301.660004</td>\n",
              "      <td>311.274963</td>\n",
              "    </tr>\n",
              "    <tr>\n",
              "      <th>2018-09-04</th>\n",
              "      <td>288.950012</td>\n",
              "      <td>308.023712</td>\n",
              "    </tr>\n",
              "    <tr>\n",
              "      <th>2018-09-05</th>\n",
              "      <td>280.739990</td>\n",
              "      <td>302.308105</td>\n",
              "    </tr>\n",
              "    <tr>\n",
              "      <th>2018-09-06</th>\n",
              "      <td>280.950012</td>\n",
              "      <td>295.433563</td>\n",
              "    </tr>\n",
              "    <tr>\n",
              "      <th>...</th>\n",
              "      <td>...</td>\n",
              "      <td>...</td>\n",
              "    </tr>\n",
              "    <tr>\n",
              "      <th>2020-04-24</th>\n",
              "      <td>725.150024</td>\n",
              "      <td>624.784302</td>\n",
              "    </tr>\n",
              "    <tr>\n",
              "      <th>2020-04-27</th>\n",
              "      <td>798.750000</td>\n",
              "      <td>627.497070</td>\n",
              "    </tr>\n",
              "    <tr>\n",
              "      <th>2020-04-28</th>\n",
              "      <td>769.119995</td>\n",
              "      <td>664.371521</td>\n",
              "    </tr>\n",
              "    <tr>\n",
              "      <th>2020-04-29</th>\n",
              "      <td>800.510010</td>\n",
              "      <td>682.521729</td>\n",
              "    </tr>\n",
              "    <tr>\n",
              "      <th>2020-04-30</th>\n",
              "      <td>781.880005</td>\n",
              "      <td>702.350708</td>\n",
              "    </tr>\n",
              "  </tbody>\n",
              "</table>\n",
              "<p>419 rows × 2 columns</p>\n",
              "</div>"
            ],
            "text/plain": [
              "                 Close  Predictions\n",
              "Date                               \n",
              "2018-08-30  303.149994   315.597015\n",
              "2018-08-31  301.660004   311.274963\n",
              "2018-09-04  288.950012   308.023712\n",
              "2018-09-05  280.739990   302.308105\n",
              "2018-09-06  280.950012   295.433563\n",
              "...                ...          ...\n",
              "2020-04-24  725.150024   624.784302\n",
              "2020-04-27  798.750000   627.497070\n",
              "2020-04-28  769.119995   664.371521\n",
              "2020-04-29  800.510010   682.521729\n",
              "2020-04-30  781.880005   702.350708\n",
              "\n",
              "[419 rows x 2 columns]"
            ]
          },
          "metadata": {
            "tags": []
          },
          "execution_count": 44
        }
      ]
    },
    {
      "cell_type": "code",
      "metadata": {
        "id": "J0QPwyjUc60t",
        "colab_type": "code",
        "colab": {
          "base_uri": "https://localhost:8080/",
          "height": 34
        },
        "outputId": "63ba38f0-eccb-4a86-c0ac-0044f2203124"
      },
      "source": [
        "#to predict cost for 2020-05-01\n",
        "tsla_quote=web.DataReader('TSLA',data_source='yahoo',start='2012-01-01',end='2020-04-30')\n",
        "new_df=tsla_quote.filter(['Close'])\n",
        "last_60_days=new_df[-60:].values\n",
        "last_60_days_scaled=scaler.transform(last_60_days)\n",
        "X_test=[]\n",
        "X_test.append(last_60_days_scaled)\n",
        "X_test=np.array(X_test)\n",
        "X_test=np.reshape(X_test,(X_test.shape[0],X_test.shape[1],1))\n",
        "pred_price=model.predict(X_test)\n",
        "pred_price=scaler.inverse_transform(pred_price)\n",
        "print(pred_price)"
      ],
      "execution_count": 47,
      "outputs": [
        {
          "output_type": "stream",
          "text": [
            "[[705.17944]]\n"
          ],
          "name": "stdout"
        }
      ]
    },
    {
      "cell_type": "code",
      "metadata": {
        "id": "vcoblR-9iu44",
        "colab_type": "code",
        "colab": {
          "base_uri": "https://localhost:8080/",
          "height": 84
        },
        "outputId": "d0a53a32-6361-4837-9220-787a00e78ee1"
      },
      "source": [
        "tsla_quote2=web.DataReader('TSLA',data_source='yahoo',start='2020-05-01',end='2020-05-01')\n",
        "print(tsla_quote2['Close'])"
      ],
      "execution_count": 48,
      "outputs": [
        {
          "output_type": "stream",
          "text": [
            "Date\n",
            "2020-05-01    701.320007\n",
            "2020-05-01    701.320007\n",
            "Name: Close, dtype: float64\n"
          ],
          "name": "stdout"
        }
      ]
    }
  ]
}